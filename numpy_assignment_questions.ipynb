{
 "cells": [
  {
   "cell_type": "code",
   "execution_count": 1,
   "metadata": {},
   "outputs": [],
   "source": [
    "\n",
    "# 1. What is a Python library? Why do we use Python libraries?\n",
    "\n",
    "\n",
    "#A Python library is a collection of pre-written code modules and functions that extend the capabilities of Python. \n",
    "# Python libraries are utilized to streamline development by providing ready-made solutions for common tasks, promoting code reusability, \n",
    "# improving efficiency, and leveraging community expertise. They cover diverse domains, such as data manipulation, web development, \n",
    "# machine learning, and more, allowing developers to focus on higher-level aspects of their projects without having to start from scratch. \n",
    "# In essence, Python libraries enhance the functionality and versatility of the language. "
   ]
  },
  {
   "cell_type": "code",
   "execution_count": null,
   "metadata": {},
   "outputs": [],
   "source": [
    "# 2. What is the difference between Numpy array and List?\n",
    "\n",
    "\n",
    "#Homogeneous Data: NumPy arrays store elements of the same data type, making them more compact and memory-efficient than lists. \n",
    "# Fixed Data Type: NumPy arrays have a fixed data type, reducing memory overhead by eliminating the need to store type information for each element.  \n"
   ]
  },
  {
   "cell_type": "code",
   "execution_count": 2,
   "metadata": {},
   "outputs": [],
   "source": [
    "#3.Find the shape, size and dimension of the following array?\n",
    "#[[1, 2, 3, 4]\n",
    "#[5, 6, 7, 8],\n",
    "#[9, 10, 11, 12]]\n",
    "\n",
    "\n",
    "\n",
    "#solution: \n",
    "        #shape(3,4) \n",
    "        #size:12\n",
    "        #dimension:2"
   ]
  },
  {
   "cell_type": "code",
   "execution_count": 3,
   "metadata": {},
   "outputs": [
    {
     "name": "stdout",
     "output_type": "stream",
     "text": [
      "[1, 2, 3, 4]\n"
     ]
    }
   ],
   "source": [
    "array=[[1, 2, 3, 4],\n",
    "       [5, 6, 7, 8],\n",
    "       [9, 10, 11, 12]]\n",
    "firstrow=array[0]\n",
    "print(firstrow)\n",
    " "
   ]
  },
  {
   "cell_type": "code",
   "execution_count": 4,
   "metadata": {},
   "outputs": [],
   "source": [
    "import numpy as np\n",
    "array=np.array1([\n",
    "    [1, 2, 3, 4],\n",
    "    [5, 6, 7, 8],\n",
    "    [9, 10, 11, 12]])\n",
    "element=array[2,3]\n",
    "print(element)"
   ]
  },
  {
   "cell_type": "code",
   "execution_count": 5,
   "metadata": {},
   "outputs": [],
   "source": [
    "import numpy as np\n",
    "array=np.array1([[1, 2, 3, 4],\n",
    " [5, 6, 7, 8],\n",
    " [9, 10, 11, 12]])\n",
    "odd_extract_element=array[:,1::2]\n",
    "print(odd_extract_element)"
   ]
  },
  {
   "cell_type": "code",
   "execution_count": 6,
   "metadata": {},
   "outputs": [],
   "source": [
    "import numpy as np\n",
    "random_elemnt=np.random.rand(3,3)\n",
    "print(random_elemnt)"
   ]
  },
  {
   "cell_type": "code",
   "execution_count": null,
   "metadata": {},
   "outputs": [],
   "source": [
    "# 8. Describe the difference between np.random.rand and np.random.randn?\n",
    "\n",
    "\n",
    "#In summary, randn generates numbers from a normal distribution with a mean of 0 and a standard deviation of 1, while `rand` generates numbers \n",
    "# from a uniform distribution between 0 and 1.\n",
    "\n"
   ]
  },
  {
   "cell_type": "code",
   "execution_count": 8,
   "metadata": {},
   "outputs": [],
   "source": [
    "import numpy as np\n",
    "array=np.array([[1, 2, 3, 4],\n",
    " [5, 6, 7, 8],\n",
    " [9, 10, 11, 12]])\n",
    "increase_dimension=array[:,:,np.newaxis]\n",
    "print(increase_dimension)"
   ]
  },
  {
   "cell_type": "code",
   "execution_count": 10,
   "metadata": {},
   "outputs": [],
   "source": [
    "import numpy as np\n",
    "array=np.array1([[1, 2, 3, 4],\n",
    " [5, 6, 7, 8],\n",
    " [9, 10, 11, 12]])\n",
    "transpose_element1=array.T\n",
    "transpose_element2=np.Transpose(array)\n",
    "print(transpose_element1)\n",
    "print(transpose_element2)"
   ]
  },
  {
   "cell_type": "code",
   "execution_count": 11,
   "metadata": {},
   "outputs": [],
   "source": [
    "import numpy as np\n",
    "A1=np.array([[1, 2, 3, 4],\n",
    " [5, 6, 7, 8],\n",
    " [9, 10, 11, 12]])\n",
    "B1=np.array([[1, 2, 3, 4],\n",
    "             [5, 6, 7, 8],\n",
    "             [9, 10, 11, 12]])\n",
    "result=A1+B1\n",
    "print(result)"
   ]
  },
  {
   "cell_type": "code",
   "execution_count": 7,
   "metadata": {},
   "outputs": [],
   "source": [
    "import numpy as np\n",
    "A=np.array([[1, 2, 3, 4],\n",
    "             [5, 6, 7, 8],\n",
    "             [9, 10, 11, 12]])\n",
    "B=np.array([[1, 2, 3, 4],\n",
    "             [5, 6, 7, 8],\n",
    "             [9, 10, 11, 12]])\n",
    "index_wise_multiplication=(A*B)\n",
    "matrIx_multiplication=np.dot(A,B)\n",
    "Add_both_the_matric=(A+B)\n",
    "Subtract_matrix=(B-A)\n",
    "Divide_Matrix=B/A\n",
    "print(index_wise_multiplication)\n",
    "print(matrIx_multiplication)\n",
    "print(subtract_matrix)\n",
    "print(Divide_Matrix)"
   ]
  },
  {
   "cell_type": "code",
   "execution_count": 1,
   "metadata": {},
   "outputs": [],
   "source": [
    "import numpy as np\n",
    "array=np.array([1,2,3,4])\n",
    "arr=np.array([1,2,3,4],datatype=np.int32)#\n",
    "swapped_array=arr.byteswap()\n",
    "print(swapped_array)\n",
    "print(array.dtype)#find the datatype"
   ]
  },
  {
   "cell_type": "code",
   "execution_count": null,
   "metadata": {},
   "outputs": [],
   "source": [
    "# 13.  What is the significance of the np.linalg.inv function?\n",
    "\n",
    "\n",
    "#We use numpy. linalg. inv() function to calculate the inverse of a matrix. \n",
    "# The inverse of a matrix is such that if it is multiplied by the original matrix, it results in identity matrix.\n"
   ]
  },
  {
   "cell_type": "code",
   "execution_count": 2,
   "metadata": {},
   "outputs": [],
   "source": [
    "#The np.reshape function in NumPy is used to change the shape of an array without changing its data. \n",
    "# It allows you to rearrange the elements of an array into a new shape, either by specifying the desired shape explicitly or by inferring\n",
    "# one of the dimensions while keeping the total number of elements constant.\n",
    "# for eg:\n",
    "import numpy as np\n",
    "arr=np.array([1,2,3,4,5,6])\n",
    "reshaped_array=np.reshape(arr,(2,3))\n",
    "print(reshaped_array)\n",
    "\n"
   ]
  },
  {
   "cell_type": "code",
   "execution_count": null,
   "metadata": {},
   "outputs": [],
   "source": [
    "#15. What is broa^casting in Numpy?\n",
    "\n",
    "\n",
    "#broadcast() function produces an object that mimics broadcasting. \n",
    "# Broadcasting is the concept of making arrays with different shapes compatible for arithmetic operations. \n",
    "# The numpy. broadcast() function is used to apply binary operations to arrays of different shapes.\n"
   ]
  }
 ],
 "metadata": {
  "kernelspec": {
   "display_name": "Python 3",
   "language": "python",
   "name": "python3"
  },
  "language_info": {
   "codemirror_mode": {
    "name": "ipython",
    "version": 3
   },
   "file_extension": ".py",
   "mimetype": "text/x-python",
   "name": "python",
   "nbconvert_exporter": "python",
   "pygments_lexer": "ipython3",
   "version": "3.11.4"
  }
 },
 "nbformat": 4,
 "nbformat_minor": 2
}
